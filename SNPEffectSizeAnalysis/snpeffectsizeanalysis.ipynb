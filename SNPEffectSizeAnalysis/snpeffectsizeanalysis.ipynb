{
 "cells": [
  {
   "cell_type": "markdown",
   "metadata": {},
   "source": [
    "# SNP Effect Size Analysis"
   ]
  },
  {
   "cell_type": "markdown",
   "metadata": {},
   "source": [
    "SNPs linked to three specific diseases (Alzheimer's, Parkinson's, and Type 2 Diabetes) are analyzed for significance in effect size of those SNPs with respect to the corresponding disease. The average effect size for the specific disease is calculated for the linked SNPs to that disease. Then, many random samples of SNPs from the entire dataset are formed and the average effect size for each of those samples is calculated. A p-value is obtained for significance of the effect size of the specific disease SNPs given the distribution of the random samples' effect sizes and the effect sizes of both the disease linked SNPs and the random samples are plotted for a visual representation. Linked SNPs are obtained from the file \"snapfiltered.associations.new2.tsv\" which contain SNPs from the original \"associations.new.tsv\" file but with filtered out SNPs that are in linkage disequilibrium with known SNPs from the original \"associations.known.tsv\" file. SNPs in linkage disequilibrium were determined by using the SNAP online tool at http://archive.broadinstitute.org/mpg/snap/ldsearchpw.php with an r^2 threshold of 0.9 and using SNP data from the 1000 Genomes Pilot 1 data set with a population panel of CEU."
   ]
  },
  {
   "cell_type": "markdown",
   "metadata": {},
   "source": [
    "Specific libraries needed are imported."
   ]
  },
  {
   "cell_type": "code",
   "execution_count": 53,
   "metadata": {
    "collapsed": true
   },
   "outputs": [],
   "source": [
    "import csv\n",
    "import numpy as np\n",
    "import collections as col\n",
    "import random\n",
    "import matplotlib.pyplot as plt\n",
    "from scipy.stats import norm"
   ]
  },
  {
   "cell_type": "markdown",
   "metadata": {},
   "source": [
    "# Alzheimer's Disease Linked SNPs Analysis"
   ]
  },
  {
   "cell_type": "markdown",
   "metadata": {},
   "source": [
    "We start by performing the effect size analysis on SNPs linked with Alzheimer's disease. Initial data structures are declared to store information about the SNPs and effect size for the disease."
   ]
  },
  {
   "cell_type": "code",
   "execution_count": 54,
   "metadata": {
    "collapsed": true
   },
   "outputs": [],
   "source": [
    "# SNP Trait/Disease to focus on\n",
    "disease = \"Alzheimer\"\n",
    "\n",
    "# Set of Alzheimer's Disease-related SNPs\n",
    "snps = set([])\n",
    "\n",
    "# Dictionary from SNP to Beta\n",
    "allsnpbetas = {}\n",
    "\n",
    "# Dictionary that tells whether SNP is in dictionary or not\n",
    "snpsindict = col.defaultdict(lambda: \"no\")"
   ]
  },
  {
   "cell_type": "markdown",
   "metadata": {},
   "source": [
    "The SNPs data file is read and SNPs linked with Alzheimer's disease are stored. The total number of Alzheimer's SNPs from the data file is printed."
   ]
  },
  {
   "cell_type": "code",
   "execution_count": 55,
   "metadata": {
    "collapsed": false
   },
   "outputs": [
    {
     "name": "stdout",
     "output_type": "stream",
     "text": [
      "Number of Alzheimer's SNPs: 95\n"
     ]
    }
   ],
   "source": [
    "with open(\"snapfiltered.associations.new2.tsv\") as new:\n",
    "    for line in csv.reader(new, delimiter=\"\\t\"):\n",
    "        snpid = line[1]\n",
    "        pheno = line[2]\n",
    "        if disease in pheno:\n",
    "            snps.add(snpid)\n",
    "\n",
    "snps = list(snps)\n",
    "numsnps = len(snps)\n",
    "\n",
    "print \"Number of Alzheimer's SNPs:\", numsnps"
   ]
  },
  {
   "cell_type": "markdown",
   "metadata": {},
   "source": [
    "The data file containing the effect size for SNPs with relation to Alzheimer's disease is read and each SNP's effect size is stored. The file is named \"alzheimerssumstats.txt\" and is obtained from http://web.pasteur-lille.fr/en/recherche/u744/igap/igap_download.php."
   ]
  },
  {
   "cell_type": "code",
   "execution_count": 56,
   "metadata": {
    "collapsed": true
   },
   "outputs": [],
   "source": [
    "with open(\"alzheimerssumstats.txt\") as new:\n",
    "    for line in csv.reader(new, delimiter=\"\\t\"):\n",
    "        snpid = line[2]\n",
    "        beta = float(line[5])\n",
    "        allsnpbetas[snpid] = beta\n",
    "        snpsindict[snpid] = \"yes\""
   ]
  },
  {
   "cell_type": "markdown",
   "metadata": {},
   "source": [
    "The number of Alzheimer's related SNPs that actually have a corresponding effect size (the SNP was found in the effect size data file) is calculated and the average effect size of the Alzheimer's linked SNPs on Alzheimer's disease is calculated and printed."
   ]
  },
  {
   "cell_type": "code",
   "execution_count": 57,
   "metadata": {
    "collapsed": false
   },
   "outputs": [
    {
     "name": "stdout",
     "output_type": "stream",
     "text": [
      "Number of Alzheimer's SNPs with Known Effect Size: 80\n",
      "Average Effect Size for Alzheimer's SNPs: 0.02162625\n"
     ]
    }
   ],
   "source": [
    "# List of Effect Size of Alzheimer's SNPs\n",
    "snpbetas = []\n",
    "\n",
    "# Get only linked SNPs with known effect size\n",
    "for snp in snps:\n",
    "    if snpsindict[snp] == \"no\":\n",
    "        continue\n",
    "    snpbetas.append(allsnpbetas[snp])\n",
    "\n",
    "numsnpbetas = len(snpbetas)\n",
    "avgbeta = np.mean(snpbetas)\n",
    "\n",
    "print \"Number of Alzheimer's SNPs with Known Effect Size:\", numsnpbetas\n",
    "print \"Average Effect Size for Alzheimer's SNPs:\", avgbeta"
   ]
  },
  {
   "cell_type": "markdown",
   "metadata": {},
   "source": [
    "Random samples of SNPs from the whole set of SNPs with known effect size for Alzheimer's are created. These samples contain the same amount of SNPs as there are Alzheimer's SNPs with corresponding effect sizes. The average effect size for each sample is calculated and stored. The total number of random samples is 100."
   ]
  },
  {
   "cell_type": "code",
   "execution_count": 58,
   "metadata": {
    "collapsed": true
   },
   "outputs": [],
   "source": [
    "# Get Average Effect Size for Random Samples of SNPs\n",
    "allsnps = allsnpbetas.keys()\n",
    "numallsnps = len(allsnps)\n",
    "\n",
    "totalsamples = 100\n",
    "\n",
    "avgsamplebetas = []\n",
    "\n",
    "for i in range(totalsamples):\n",
    "    randsample = random.sample(allsnps, numsnpbetas)\n",
    "    avgsamplebeta = np.mean([allsnpbetas[snp] for snp in randsample])\n",
    "    avgsamplebetas.append(avgsamplebeta)"
   ]
  },
  {
   "cell_type": "markdown",
   "metadata": {},
   "source": [
    "Given this distribution of average effect size for the many random samples, the p-value of the average effect size for the Alzheimer's linked SNPs is calculated to see if the effect size for the Alzheimer's SNPs is significant."
   ]
  },
  {
   "cell_type": "code",
   "execution_count": 59,
   "metadata": {
    "collapsed": false
   },
   "outputs": [
    {
     "name": "stdout",
     "output_type": "stream",
     "text": [
      "P-value for Alzheimer's SNPs Effect Size: 2.32338152563e-06\n"
     ]
    }
   ],
   "source": [
    "# Get p-value of Alzheimer's SNPs\n",
    "samplemean = np.mean(avgsamplebetas)\n",
    "sampledev = np.std(avgsamplebetas)\n",
    "zscore = (avgbeta - samplemean) / sampledev\n",
    "pval = norm.sf(zscore)\n",
    "\n",
    "print \"P-value for Alzheimer's SNPs Effect Size:\", pval"
   ]
  },
  {
   "cell_type": "markdown",
   "metadata": {},
   "source": [
    "The average effect size of the Alzheimer's SNPs and the average effect size for each of the random samples is also plotted and saved for a visual representation."
   ]
  },
  {
   "cell_type": "code",
   "execution_count": 60,
   "metadata": {
    "collapsed": true
   },
   "outputs": [],
   "source": [
    "plt.clf()\n",
    "plt.plot([1], [avgbeta], 'ro', markersize=12, label=\"Alzheimer's SNPs\")\n",
    "plt.plot(range(1, totalsamples + 1), avgsamplebetas, 'bo', markersize=12, label=\"Random SNP Samples\")\n",
    "plt.title(\"Average Effect Size of Alzheimer's SNPs vs \" + str(totalsamples) + \" Random Samples\")\n",
    "plt.xlabel(\"Sample\")\n",
    "plt.ylabel(\"Average Effect Size\")\n",
    "plt.xlim(0, totalsamples + 1)\n",
    "plt.legend(loc=\"upper right\")\n",
    "plt.savefig(\"alzheimers.png\")"
   ]
  },
  {
   "cell_type": "markdown",
   "metadata": {},
   "source": [
    "# Parkinson's Disease Linked SNPs Analysis"
   ]
  },
  {
   "cell_type": "markdown",
   "metadata": {},
   "source": [
    "Similar to Alzheimer's Disease, we perform the effect size analysis on SNPs linked with Parkinson's disease. Initial data structures are redefined to store information about the SNPs and effect size for the disease."
   ]
  },
  {
   "cell_type": "code",
   "execution_count": 61,
   "metadata": {
    "collapsed": true
   },
   "outputs": [],
   "source": [
    "# SNP Trait/Disease to focus on\n",
    "disease = \"Parkinson\"\n",
    "\n",
    "# Set of Parkinson's Disease-related SNPs\n",
    "snps = set([])\n",
    "\n",
    "# Dictionary from SNP to Beta\n",
    "allsnpbetas = {}\n",
    "\n",
    "# Dictionary that tells whether SNP is in dictionary or not\n",
    "snpsindict = col.defaultdict(lambda: \"no\")"
   ]
  },
  {
   "cell_type": "markdown",
   "metadata": {},
   "source": [
    "The SNPs data file is read and SNPs linked with Parkinson's disease are stored. The total number of Parkinson's SNPs from the data file is printed."
   ]
  },
  {
   "cell_type": "code",
   "execution_count": 62,
   "metadata": {
    "collapsed": false
   },
   "outputs": [
    {
     "name": "stdout",
     "output_type": "stream",
     "text": [
      "Number of Parkinson's SNPs: 68\n"
     ]
    }
   ],
   "source": [
    "with open(\"snapfiltered.associations.new2.tsv\") as new:\n",
    "    for line in csv.reader(new, delimiter=\"\\t\"):\n",
    "        snpid = line[1]\n",
    "        pheno = line[2]\n",
    "        if disease in pheno:\n",
    "            snps.add(snpid)\n",
    "\n",
    "snps = list(snps)\n",
    "numsnps = len(snps)\n",
    "\n",
    "print \"Number of Parkinson's SNPs:\", numsnps"
   ]
  },
  {
   "cell_type": "markdown",
   "metadata": {},
   "source": [
    "The data file containing the effect size for SNPs with relation to Parkinson's disease is read and each SNP's effect size is stored. The file is named \"parkinsonssumstats.txt\" and is obtained from https://www.ncbi.nlm.nih.gov/projects/SNP/gViewer/gView.cgi?aid=2868."
   ]
  },
  {
   "cell_type": "code",
   "execution_count": 63,
   "metadata": {
    "collapsed": true
   },
   "outputs": [],
   "source": [
    "with open(\"parkinsonssumstats.txt\") as new:\n",
    "    for line in csv.reader(new, delimiter=\"\\t\"):\n",
    "        snpid = line[0]\n",
    "        beta = float(line[13])\n",
    "        allsnpbetas[snpid] = beta\n",
    "        snpsindict[snpid] = \"yes\""
   ]
  },
  {
   "cell_type": "markdown",
   "metadata": {},
   "source": [
    "The number of Parkinson's related SNPs that actually have a corresponding effect size (the SNP was found in the effect size data file) is calculated and the average effect size of the Parkinson's linked SNPs on Parkinson's disease is calculated and printed."
   ]
  },
  {
   "cell_type": "code",
   "execution_count": 64,
   "metadata": {
    "collapsed": false
   },
   "outputs": [
    {
     "name": "stdout",
     "output_type": "stream",
     "text": [
      "Number of Parkinson's SNPs with Known Effect Size: 38\n",
      "Average Effect Size for Parkinson's SNPs: 1.03199473684\n"
     ]
    }
   ],
   "source": [
    "# List of Effect Size of Parkinson's SNPs\n",
    "snpbetas = []\n",
    "\n",
    "# Get only linked SNPs with known effect size\n",
    "for snp in snps:\n",
    "    if snpsindict[snp] == \"no\":\n",
    "        continue\n",
    "    snpbetas.append(allsnpbetas[snp])\n",
    "\n",
    "numsnpbetas = len(snpbetas)\n",
    "avgbeta = np.mean(snpbetas)\n",
    "\n",
    "print \"Number of Parkinson's SNPs with Known Effect Size:\", numsnpbetas\n",
    "print \"Average Effect Size for Parkinson's SNPs:\", avgbeta"
   ]
  },
  {
   "cell_type": "markdown",
   "metadata": {},
   "source": [
    "Random samples of SNPs from the whole set of SNPs with known effect size for Parkinson's are created. These samples contain the same amount of SNPs as there are Parkinson's SNPs with corresponding effect sizes. The average effect size for each sample is calculated and stored. The total number of random samples is 100."
   ]
  },
  {
   "cell_type": "code",
   "execution_count": 65,
   "metadata": {
    "collapsed": true
   },
   "outputs": [],
   "source": [
    "# Get Average Effect Size for Random Samples of SNPs\n",
    "allsnps = allsnpbetas.keys()\n",
    "numallsnps = len(allsnps)\n",
    "\n",
    "totalsamples = 100\n",
    "\n",
    "avgsamplebetas = []\n",
    "\n",
    "for i in range(totalsamples):\n",
    "    randsample = random.sample(allsnps, numsnpbetas)\n",
    "    avgsamplebeta = np.mean([allsnpbetas[snp] for snp in randsample])\n",
    "    avgsamplebetas.append(avgsamplebeta)"
   ]
  },
  {
   "cell_type": "markdown",
   "metadata": {},
   "source": [
    "Given this distribution of average effect size for the many random samples, the p-value of the average effect size for the Parkinson's linked SNPs is calculated to see if the effect size for the Parkinson's SNPs is significant."
   ]
  },
  {
   "cell_type": "code",
   "execution_count": 66,
   "metadata": {
    "collapsed": false
   },
   "outputs": [
    {
     "name": "stdout",
     "output_type": "stream",
     "text": [
      "P-value for Parkinson's SNPs Effect Size: 0.0021465914715\n"
     ]
    }
   ],
   "source": [
    "# Get p-value of Parkinson's SNPs\n",
    "samplemean = np.mean(avgsamplebetas)\n",
    "sampledev = np.std(avgsamplebetas)\n",
    "zscore = (avgbeta - samplemean) / sampledev\n",
    "pval = norm.sf(zscore)\n",
    "\n",
    "print \"P-value for Parkinson's SNPs Effect Size:\", pval"
   ]
  },
  {
   "cell_type": "markdown",
   "metadata": {},
   "source": [
    "The average effect size of the Parkinson's SNPs and the average effect size for each of the random samples is also plotted and saved for a visual representation."
   ]
  },
  {
   "cell_type": "code",
   "execution_count": 67,
   "metadata": {
    "collapsed": true
   },
   "outputs": [],
   "source": [
    "plt.clf()\n",
    "plt.plot([1], [avgbeta], 'ro', markersize=12, label=\"Parkinson's SNPs\")\n",
    "plt.plot(range(1, totalsamples + 1), avgsamplebetas, 'bo', markersize=12, label=\"Random SNP Samples\")\n",
    "plt.title(\"Average Effect Size of Parkinson's SNPs vs \" + str(totalsamples) + \" Random Samples\")\n",
    "plt.xlabel(\"Sample\")\n",
    "plt.ylabel(\"Average Effect Size\")\n",
    "plt.xlim(0, totalsamples + 1)\n",
    "plt.legend(loc=\"upper right\")\n",
    "plt.savefig(\"parkinsons.png\")"
   ]
  },
  {
   "cell_type": "markdown",
   "metadata": {},
   "source": [
    "# Type 2 Diabetes Linked SNPs Analysis"
   ]
  },
  {
   "cell_type": "markdown",
   "metadata": {},
   "source": [
    "Similar to the other diseases, we perform the effect size analysis on SNPs linked with Type 2 Diabetes. Initial data structures are redefined to store information about the SNPs and effect size for the disease."
   ]
  },
  {
   "cell_type": "code",
   "execution_count": 68,
   "metadata": {
    "collapsed": true
   },
   "outputs": [],
   "source": [
    "# SNP Trait/Disease to focus on\n",
    "disease = \"Type 2 Diabetes\"\n",
    "\n",
    "# Set of Type 2 Diabetes-related SNPs\n",
    "snps = set([])\n",
    "\n",
    "# Dictionary from SNP to Beta\n",
    "allsnpbetas = {}\n",
    "\n",
    "# Dictionary that tells whether SNP is in dictionary or not\n",
    "snpsindict = col.defaultdict(lambda: \"no\")"
   ]
  },
  {
   "cell_type": "markdown",
   "metadata": {},
   "source": [
    "The SNPs data file is read and SNPs linked with Type 2 Diabetes are stored. The total number of Type 2 Diabetes SNPs from the data file is printed."
   ]
  },
  {
   "cell_type": "code",
   "execution_count": 69,
   "metadata": {
    "collapsed": false
   },
   "outputs": [
    {
     "name": "stdout",
     "output_type": "stream",
     "text": [
      "Number of Type 2 Diabetes SNPs: 19\n"
     ]
    }
   ],
   "source": [
    "with open(\"snapfiltered.associations.new2.tsv\") as new:\n",
    "    for line in csv.reader(new, delimiter=\"\\t\"):\n",
    "        snpid = line[1]\n",
    "        pheno = line[2]\n",
    "        if disease in pheno:\n",
    "            snps.add(snpid)\n",
    "\n",
    "snps = list(snps)\n",
    "numsnps = len(snps)\n",
    "\n",
    "print \"Number of Type 2 Diabetes SNPs:\", numsnps"
   ]
  },
  {
   "cell_type": "markdown",
   "metadata": {},
   "source": [
    "The data file containing the effect size for SNPs with relation to Type 2 Diabetes is read and each SNP's effect size is stored. The file is named \"type2diabetessumstats.txt\" and is obtained from http://diagram-consortium.org/downloads.html."
   ]
  },
  {
   "cell_type": "code",
   "execution_count": 70,
   "metadata": {
    "collapsed": true
   },
   "outputs": [],
   "source": [
    "with open(\"type2diabetessumstats.txt\") as new:\n",
    "    for line in csv.reader(new, delimiter=\"\\t\"):\n",
    "        snpid = line[0]\n",
    "        beta = float(line[6])\n",
    "        allsnpbetas[snpid] = beta\n",
    "        snpsindict[snpid] = \"yes\""
   ]
  },
  {
   "cell_type": "markdown",
   "metadata": {},
   "source": [
    "The number of Type 2 Diabetes related SNPs that actually have a corresponding effect size (the SNP was found in the effect size data file) is calculated and the average effect size of the Type 2 Diabetes linked SNPs on Type 2 Diabetes disease is calculated and printed."
   ]
  },
  {
   "cell_type": "code",
   "execution_count": 71,
   "metadata": {
    "collapsed": false
   },
   "outputs": [
    {
     "name": "stdout",
     "output_type": "stream",
     "text": [
      "Number of Type 2 Diabetes SNPs with Known Effect Size: 18\n",
      "Average Effect Size for Type 2 Diabetes SNPs: 1.04722222222\n"
     ]
    }
   ],
   "source": [
    "# List of Effect Size of Type 2 Diabetes's SNPs\n",
    "snpbetas = []\n",
    "\n",
    "# Get only linked SNPs with known effect size\n",
    "for snp in snps:\n",
    "    if snpsindict[snp] == \"no\":\n",
    "        continue\n",
    "    snpbetas.append(allsnpbetas[snp])\n",
    "\n",
    "numsnpbetas = len(snpbetas)\n",
    "avgbeta = np.mean(snpbetas)\n",
    "\n",
    "print \"Number of Type 2 Diabetes SNPs with Known Effect Size:\", numsnpbetas\n",
    "print \"Average Effect Size for Type 2 Diabetes SNPs:\", avgbeta"
   ]
  },
  {
   "cell_type": "markdown",
   "metadata": {},
   "source": [
    "Random samples of SNPs from the whole set of SNPs with known effect size for Type 2 Diabetes are created. These samples contain the same amount of SNPs as there are Type 2 Diabetes SNPs with corresponding effect sizes. The average effect size for each sample is calculated and stored. The total number of random samples is 100."
   ]
  },
  {
   "cell_type": "code",
   "execution_count": 72,
   "metadata": {
    "collapsed": true
   },
   "outputs": [],
   "source": [
    "# Get Average Effect Size for Random Samples of SNPs\n",
    "allsnps = allsnpbetas.keys()\n",
    "numallsnps = len(allsnps)\n",
    "\n",
    "totalsamples = 100\n",
    "\n",
    "avgsamplebetas = []\n",
    "\n",
    "for i in range(totalsamples):\n",
    "    randsample = random.sample(allsnps, numsnpbetas)\n",
    "    avgsamplebeta = np.mean([allsnpbetas[snp] for snp in randsample])\n",
    "    avgsamplebetas.append(avgsamplebeta)"
   ]
  },
  {
   "cell_type": "markdown",
   "metadata": {},
   "source": [
    "Given this distribution of average effect size for the many random samples, the p-value of the average effect size for the Type 2 Diabetes linked SNPs is calculated to see if the effect size for the Type 2 Diabetes SNPs is significant."
   ]
  },
  {
   "cell_type": "code",
   "execution_count": 73,
   "metadata": {
    "collapsed": false
   },
   "outputs": [
    {
     "name": "stdout",
     "output_type": "stream",
     "text": [
      "P-value for Type 2 Diabetes SNPs Effect Size: 0.000995409635792\n"
     ]
    }
   ],
   "source": [
    "# Get p-value of Type 2 Diabetes SNPs\n",
    "samplemean = np.mean(avgsamplebetas)\n",
    "sampledev = np.std(avgsamplebetas)\n",
    "zscore = (avgbeta - samplemean) / sampledev\n",
    "pval = norm.sf(zscore)\n",
    "\n",
    "print \"P-value for Type 2 Diabetes SNPs Effect Size:\", pval"
   ]
  },
  {
   "cell_type": "markdown",
   "metadata": {},
   "source": [
    "The average effect size of the Type 2 Diabetes SNPs and the average effect size for each of the random samples is also plotted and saved for a visual representation."
   ]
  },
  {
   "cell_type": "code",
   "execution_count": 74,
   "metadata": {
    "collapsed": true
   },
   "outputs": [],
   "source": [
    "plt.clf()\n",
    "plt.plot([1], [avgbeta], 'ro', markersize=12, label=\"Type 2 Diabetes SNPs\")\n",
    "plt.plot(range(1, totalsamples + 1), avgsamplebetas, 'bo', markersize=12, label=\"Random SNP Samples\")\n",
    "plt.title(\"Average Effect Size of Type 2 Diabetes SNPs vs \" + str(totalsamples) + \" Random Samples\")\n",
    "plt.xlabel(\"Sample\")\n",
    "plt.ylabel(\"Average Effect Size\")\n",
    "plt.xlim(0, totalsamples + 1)\n",
    "plt.legend(loc=\"upper right\")\n",
    "plt.savefig(\"type2diabetes.png\")"
   ]
  }
 ],
 "metadata": {
  "anaconda-cloud": {},
  "kernelspec": {
   "display_name": "Python [default]",
   "language": "python",
   "name": "python2"
  },
  "language_info": {
   "codemirror_mode": {
    "name": "ipython",
    "version": 2
   },
   "file_extension": ".py",
   "mimetype": "text/x-python",
   "name": "python",
   "nbconvert_exporter": "python",
   "pygments_lexer": "ipython2",
   "version": "2.7.12"
  }
 },
 "nbformat": 4,
 "nbformat_minor": 1
}
